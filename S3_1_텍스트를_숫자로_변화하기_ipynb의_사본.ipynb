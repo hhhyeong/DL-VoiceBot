{
  "nbformat": 4,
  "nbformat_minor": 0,
  "metadata": {
    "colab": {
      "name": "S3_1_텍스트를_숫자로 변화하기.ipynb의 사본",
      "version": "0.3.2",
      "provenance": [],
      "collapsed_sections": [],
      "include_colab_link": true
    },
    "kernelspec": {
      "name": "python3",
      "display_name": "Python 3"
    }
  },
  "cells": [
    {
      "cell_type": "markdown",
      "metadata": {
        "id": "view-in-github",
        "colab_type": "text"
      },
      "source": [
        "<a href=\"https://colab.research.google.com/github/hhhyeong/DL-VoiceBot/blob/master/S3_1_%ED%85%8D%EC%8A%A4%ED%8A%B8%EB%A5%BC_%EC%88%AB%EC%9E%90%EB%A1%9C_%EB%B3%80%ED%99%94%ED%95%98%EA%B8%B0_ipynb%EC%9D%98_%EC%82%AC%EB%B3%B8.ipynb\" target=\"_parent\"><img src=\"https://colab.research.google.com/assets/colab-badge.svg\" alt=\"Open In Colab\"/></a>"
      ]
    },
    {
      "metadata": {
        "id": "SqG81v2dWvCE",
        "colab_type": "text"
      },
      "cell_type": "markdown",
      "source": [
        "# 문자를 숫자로 수치화하는 방법"
      ]
    },
    {
      "metadata": {
        "id": "atS5d4XQXC1q",
        "colab_type": "text"
      },
      "cell_type": "markdown",
      "source": [
        "- One hot Encoding\n",
        "- Bag of Words\n",
        "- TF-IDF"
      ]
    },
    {
      "metadata": {
        "id": "hKuQMHsIbddC",
        "colab_type": "text"
      },
      "cell_type": "markdown",
      "source": [
        "##One Hot Encoding"
      ]
    },
    {
      "metadata": {
        "id": "O6Fq9s01eCNW",
        "colab_type": "code",
        "outputId": "bb60598b-a307-4263-c4f3-9b36d1852d06",
        "colab": {
          "base_uri": "https://localhost:8080/",
          "height": 300
        }
      },
      "cell_type": "code",
      "source": [
        "# 초기 원본 데이터들.\n",
        "sentences = [ \n",
        "    \"오늘 점심에 배를 먹었다.\", \"내일 저녁에 배를 탔다.\", \n",
        "    \"모레는 점심에 배를 타고 저녁에 배를 먹겠다\"\n",
        "]\n",
        "\n",
        "\n",
        "word_list = \" \".join(sentences).split()\n",
        "word_list"
      ],
      "execution_count": 0,
      "outputs": [
        {
          "output_type": "execute_result",
          "data": {
            "text/plain": [
              "['오늘',\n",
              " '점심에',\n",
              " '배를',\n",
              " '먹었다.',\n",
              " '내일',\n",
              " '저녁에',\n",
              " '배를',\n",
              " '탔다.',\n",
              " '모레는',\n",
              " '점심에',\n",
              " '배를',\n",
              " '타고',\n",
              " '저녁에',\n",
              " '배를',\n",
              " '먹겠다']"
            ]
          },
          "metadata": {
            "tags": []
          },
          "execution_count": 1
        }
      ]
    },
    {
      "metadata": {
        "id": "7Vp1wusooYTh",
        "colab_type": "code",
        "outputId": "db1c848b-ab00-47d9-b6fb-e0d54660fff0",
        "colab": {
          "base_uri": "https://localhost:8080/",
          "height": 36
        }
      },
      "cell_type": "code",
      "source": [
        "# set : 중복 없애기\n",
        "# 리스트의 길이 = vocab size (토큰의 길이).\n",
        "word_list = list(set(word_list))\n",
        "word_list"
      ],
      "execution_count": 0,
      "outputs": [
        {
          "output_type": "execute_result",
          "data": {
            "text/plain": [
              "['먹었다.', '모레는', '탔다.', '먹겠다', '오늘', '타고', '내일', '저녁에', '점심에', '배를']"
            ]
          },
          "metadata": {
            "tags": []
          },
          "execution_count": 2
        }
      ]
    },
    {
      "metadata": {
        "id": "dtZANURsgvDe",
        "colab_type": "code",
        "outputId": "cb740ac6-0bca-4239-db92-40ec9ea12b0e",
        "colab": {
          "base_uri": "https://localhost:8080/",
          "height": 206
        }
      },
      "cell_type": "code",
      "source": [
        "# enumerate : 1부터 세는것.\n",
        "# {'word' : index} 쌍으로 단어에 index 붙은 사전 생성.\n",
        "word_dict = {w: i for i, w in enumerate(word_list)}\n",
        "word_dict"
      ],
      "execution_count": 0,
      "outputs": [
        {
          "output_type": "execute_result",
          "data": {
            "text/plain": [
              "{'내일': 6,\n",
              " '먹겠다': 3,\n",
              " '먹었다.': 0,\n",
              " '모레는': 1,\n",
              " '배를': 9,\n",
              " '오늘': 4,\n",
              " '저녁에': 7,\n",
              " '점심에': 8,\n",
              " '타고': 5,\n",
              " '탔다.': 2}"
            ]
          },
          "metadata": {
            "tags": []
          },
          "execution_count": 3
        }
      ]
    },
    {
      "metadata": {
        "id": "lJVpaXNCg2tY",
        "colab_type": "code",
        "outputId": "1e895929-7673-4fb7-c67e-2f2dea6f8c21",
        "colab": {
          "base_uri": "https://localhost:8080/",
          "height": 206
        }
      },
      "cell_type": "code",
      "source": [
        "# {index : 'word'} 쌍으로 구성된 사전 생성.\n",
        "# ㄱㄴㄷ 순서.\n",
        "number_dict = {i: w for i, w in enumerate(word_list)}\n",
        "number_dict"
      ],
      "execution_count": 0,
      "outputs": [
        {
          "output_type": "execute_result",
          "data": {
            "text/plain": [
              "{0: '먹었다.',\n",
              " 1: '모레는',\n",
              " 2: '탔다.',\n",
              " 3: '먹겠다',\n",
              " 4: '오늘',\n",
              " 5: '타고',\n",
              " 6: '내일',\n",
              " 7: '저녁에',\n",
              " 8: '점심에',\n",
              " 9: '배를'}"
            ]
          },
          "metadata": {
            "tags": []
          },
          "execution_count": 4
        }
      ]
    },
    {
      "metadata": {
        "id": "TrNX0SB3pO1o",
        "colab_type": "code",
        "colab": {}
      },
      "cell_type": "code",
      "source": [
        "# n_class : n개의 종류\n",
        "# <=> 중복 없는 토큰의 개수.\n",
        "# <=> 단어 사전의 길이.\n",
        "# <=> vocab size\n",
        "# embedding 하기 위해 size를 지정해주게 됨.\n",
        "n_class = len(word_dict)"
      ],
      "execution_count": 0,
      "outputs": []
    },
    {
      "metadata": {
        "id": "TX38FsUQgwX_",
        "colab_type": "code",
        "colab": {}
      },
      "cell_type": "code",
      "source": [
        "import numpy as np\n",
        "\n",
        "# 입력값.\n",
        "input_batch = []\n",
        "# 입력 결과.\n",
        "# train data = train label\n",
        "target_batch = []\n",
        "\n",
        "＃　라벨링　안해도　마지막　전까지를　하나씩　가져와서　ｗｏｒｄ＿ｄｉｃｔ　｛ｗｏｒｄ：ｉｎｄｅｘ｝사전．\n",
        "for sen in sentences:\n",
        "  word = sen.split()\n",
        "  input = [word_dict[n] for n in word[:-1]]\n",
        "  ＃　ｗｏｒｄ［－１］　：　마지막꺼만．\n",
        "  target = word_dict[word[-1]]\n",
        "\n",
        "  ＃　배열．ｎｐ．ｅｙｅ　：　ｎ＿ｃｌａｓｓ값만큼의　\n",
        "  ＃　ｅｍｂｅｄｄｉｎｇ　하기위한　ｉｎｐｕｔ값을　만드는　작업．\n",
        "  input_batch.append(np.eye(n_class)[input])\n",
        "  target_batch.append(np.eye(n_class)[target])"
      ],
      "execution_count": 0,
      "outputs": []
    },
    {
      "metadata": {
        "id": "muMoA3gT88d4",
        "colab_type": "code",
        "outputId": "7847eb38-65fc-40ed-e210-0a79e42eeac6",
        "colab": {
          "base_uri": "https://localhost:8080/",
          "height": 139
        }
      },
      "cell_type": "code",
      "source": [
        "ｎｐ．"
      ],
      "execution_count": 0,
      "outputs": [
        {
          "output_type": "error",
          "ename": "SyntaxError",
          "evalue": "ignored",
          "traceback": [
            "\u001b[0;36m  File \u001b[0;32m\"<ipython-input-14-589b2f62166c>\"\u001b[0;36m, line \u001b[0;32m1\u001b[0m\n\u001b[0;31m    ｎｐ．ｅｙｅ（２）［１］\u001b[0m\n\u001b[0m               ^\u001b[0m\n\u001b[0;31mSyntaxError\u001b[0m\u001b[0;31m:\u001b[0m invalid character in identifier\n"
          ]
        }
      ]
    },
    {
      "metadata": {
        "id": "vtimmQY3pWMx",
        "colab_type": "code",
        "outputId": "e58358b5-4253-4d76-9227-3180fc9a0764",
        "colab": {
          "base_uri": "https://localhost:8080/",
          "height": 245
        }
      },
      "cell_type": "code",
      "source": [
        "print(input_batch)\n",
        "print(target_batch)"
      ],
      "execution_count": 0,
      "outputs": [
        {
          "output_type": "stream",
          "text": [
            "[array([[0., 0., 0., 0., 1., 0., 0., 0., 0., 0.],\n",
            "       [0., 0., 0., 0., 0., 0., 0., 0., 1., 0.],\n",
            "       [0., 0., 0., 0., 0., 0., 0., 0., 0., 1.]]), array([[0., 0., 0., 0., 0., 0., 1., 0., 0., 0.],\n",
            "       [0., 0., 0., 0., 0., 0., 0., 1., 0., 0.],\n",
            "       [0., 0., 0., 0., 0., 0., 0., 0., 0., 1.]]), array([[0., 1., 0., 0., 0., 0., 0., 0., 0., 0.],\n",
            "       [0., 0., 0., 0., 0., 0., 0., 0., 1., 0.],\n",
            "       [0., 0., 0., 0., 0., 0., 0., 0., 0., 1.],\n",
            "       [0., 0., 0., 0., 0., 1., 0., 0., 0., 0.],\n",
            "       [0., 0., 0., 0., 0., 0., 0., 1., 0., 0.],\n",
            "       [0., 0., 0., 0., 0., 0., 0., 0., 0., 1.]])]\n",
            "[array([1., 0., 0., 0., 0., 0., 0., 0., 0., 0.]), array([0., 0., 1., 0., 0., 0., 0., 0., 0., 0.]), array([0., 0., 0., 1., 0., 0., 0., 0., 0., 0.])]\n"
          ],
          "name": "stdout"
        }
      ]
    },
    {
      "metadata": {
        "id": "Wo7prJ97XIvz",
        "colab_type": "text"
      },
      "cell_type": "markdown",
      "source": [
        "## Bag of Words(BoW)"
      ]
    },
    {
      "metadata": {
        "id": "pGwPzTZemM64",
        "colab_type": "text"
      },
      "cell_type": "markdown",
      "source": [
        "- Bag of Words를 직역하면 단어들의 가방\n",
        "- Bag of Words란 단어들의 순서는 전혀 고려하지 앖음 \n",
        "- 단어들의 출현 빈도(frequency) 에만 집중하는 텍스트 데이터의 수치화 표현 방법"
      ]
    },
    {
      "metadata": {
        "id": "p7sJfCixm4R8",
        "colab_type": "code",
        "colab": {}
      },
      "cell_type": "code",
      "source": [
        "!pip install konlpy"
      ],
      "execution_count": 0,
      "outputs": []
    },
    {
      "metadata": {
        "id": "pWeuPVFLX-qF",
        "colab_type": "code",
        "colab": {}
      },
      "cell_type": "code",
      "source": [
        "from konlpy.tag import Okt\n",
        "import re  \n",
        "okt=Okt()  \n",
        "\n",
        "token=re.sub(\"(\\.)\",\"\",\"오전에는 BOW를 배웁니다. 오후에는 TF-IDF를 배웁니다.\")  \n",
        "token=okt.morphs(token)  \n",
        "print(token)"
      ],
      "execution_count": 0,
      "outputs": []
    },
    {
      "metadata": {
        "id": "1cFgUvv-pgZb",
        "colab_type": "code",
        "colab": {}
      },
      "cell_type": "code",
      "source": [
        "word2index={}  \n",
        "bow=[]  \n",
        "for voca in token:  \n",
        "  if voca not in word2index.keys():\n",
        "    word2index[voca]=len(word2index)  \n",
        "    bow.insert(len(word2index),1)\n",
        "\n",
        "  else:\n",
        "    index=word2index.get(voca)\n",
        "    bow[index]=bow[index]+1\n",
        "\n",
        "\n",
        "print(word2index) \n",
        "print(bow)"
      ],
      "execution_count": 0,
      "outputs": []
    },
    {
      "metadata": {
        "id": "29mqpu-qZlkl",
        "colab_type": "text"
      },
      "cell_type": "markdown",
      "source": [
        "### 2. CountVectorizer 클래스로 BoW 만들기"
      ]
    },
    {
      "metadata": {
        "id": "JubBJk0aX_EF",
        "colab_type": "code",
        "colab": {}
      },
      "cell_type": "code",
      "source": [
        "from sklearn.feature_extraction.text import CountVectorizer\n",
        "\n",
        "corpus = [\n",
        "    '오전에는 BOW를 배웁니다.',\n",
        "    '오후에는 TF-IDF를 배웁니다.'\n",
        "]\n",
        "\n",
        "\n",
        "\n",
        "vector = CountVectorizer()\n",
        "print(vector.fit_transform(corpus).toarray())\n",
        "\n",
        "\n",
        "\n",
        "word_index = vector.vocabulary_\n",
        "print(word_index)"
      ],
      "execution_count": 0,
      "outputs": []
    },
    {
      "metadata": {
        "id": "VL5bqNWYaguY",
        "colab_type": "text"
      },
      "cell_type": "markdown",
      "source": [
        "**## TF-IDF(Term Frequency-Inverse Document)**"
      ]
    },
    {
      "metadata": {
        "id": "Ehfv1B4Ua2P5",
        "colab_type": "text"
      },
      "cell_type": "markdown",
      "source": [
        "### TF-IDF \n",
        "\n",
        "- TF-IDF는 주로 문서의 유사도를 구하는 작업, 검색 시스템에서 검색 결과의 중요도를 정하는 작업\n",
        "- 문서 내에서 특정 단어의 중요도를 구하는 작업 등에 쓰임\n",
        "\n"
      ]
    },
    {
      "metadata": {
        "id": "WfLDbGOJa47o",
        "colab_type": "code",
        "colab": {}
      },
      "cell_type": "code",
      "source": [
        "from sklearn.feature_extraction.text import TfidfVectorizer\n",
        "corpus = [\n",
        "  '자연어처리 이미지처리 강화학습',\n",
        "  '자연어처리 이미지처리',      \n",
        "  '자연어처리 자연어처리',  \n",
        "  '자연어처리', \n",
        "  '자연어처리',     \n",
        "  '이미지처리',\n",
        "]\n",
        "\n",
        "\n",
        "vector = TfidfVectorizer()\n",
        "tfidfv = vector.fit(corpus)"
      ],
      "execution_count": 0,
      "outputs": []
    },
    {
      "metadata": {
        "id": "s3mxTp86X5KC",
        "colab_type": "code",
        "colab": {}
      },
      "cell_type": "code",
      "source": [
        "print(tfidfv.transform(corpus).toarray())\n",
        "print(tfidfv.vocabulary_)\n",
        "\n"
      ],
      "execution_count": 0,
      "outputs": []
    },
    {
      "metadata": {
        "id": "8bD3i9m8X9Ok",
        "colab_type": "code",
        "colab": {}
      },
      "cell_type": "code",
      "source": [
        "index_word = {v: k for k, v in tfidfv.vocabulary_.items()}\n",
        "print(index_word)"
      ],
      "execution_count": 0,
      "outputs": []
    },
    {
      "metadata": {
        "id": "P0WZBfSQX_Vy",
        "colab_type": "code",
        "colab": {}
      },
      "cell_type": "code",
      "source": [
        "import numpy as np\n",
        "\n",
        "topics = tfidfv.transform(corpus).toarray()\n",
        "\n",
        "print('1 TOPIC', index_word[np.argmax(topics[0])])\n",
        "print('2 TOPIC', index_word[np.argmax(topics[1])])\n",
        "print('3 TOPIC', index_word[np.argmax(topics[2])])"
      ],
      "execution_count": 0,
      "outputs": []
    },
    {
      "metadata": {
        "id": "sOr3DqUTbpxZ",
        "colab_type": "code",
        "colab": {}
      },
      "cell_type": "code",
      "source": [
        "f = open(\"KakaoTalkChats.txt\", 'r')\n",
        "lines = f.readlines()\n",
        "\n",
        "moon_key = \"문대표님\"\n",
        "huns_key = \"회원님\"\n",
        "\n",
        "moon_setences = []\n",
        "huns_setences = []\n",
        "for line in lines:\n",
        "  if(moon_key in line):\n",
        "    line = line[line.index(moon_key)+7:]\n",
        "    line = line.replace(\"\\n\", \".\")\n",
        "    moon_setences.append(line)\n",
        "  elif(huns_key in line):\n",
        "    line = line.replace(\"\\n\", \".\")    \n",
        "    line = line[line.index(huns_key)+6:]\n",
        "    huns_setences.append(line)\n",
        "       \n",
        "# print(moon_setences)\n",
        "print(huns_setences)\n",
        "\n",
        "f.close()"
      ],
      "execution_count": 0,
      "outputs": []
    },
    {
      "metadata": {
        "id": "1D7sjkEsd-ND",
        "colab_type": "code",
        "colab": {}
      },
      "cell_type": "code",
      "source": [
        "moon_setences = ''.join(moon_setences)\n",
        "huns_setences = ''.join(huns_setences)"
      ],
      "execution_count": 0,
      "outputs": []
    },
    {
      "metadata": {
        "id": "OFBYPqpUd2vw",
        "colab_type": "code",
        "colab": {}
      },
      "cell_type": "code",
      "source": [
        "stop_words = \"너무 파일 우리가 ai kr 오늘 www 내일 하고 제가 ec 지금 그냥 ㅎㅎ 일단 여튼 ㅠㅠ ㅋㅋ ㅋㅋㅋ ㅋㅋㅋㅋ https com 이모티콘 사진\"\n",
        "\n",
        "\n",
        "from sklearn.feature_extraction.text import TfidfVectorizer\n",
        "import numpy as np\n",
        "\n",
        "corpus = [\n",
        "    moon_setences,\n",
        "    huns_setences\n",
        "]\n",
        "\n",
        "vector = TfidfVectorizer(stop_words=stop_words.split(' '))\n",
        "\n",
        "tfidfv = vector.fit(corpus)\n",
        "topics = tfidfv.transform(corpus).toarray()\n",
        "\n",
        "word_index = {v: k for k, v in tfidfv.vocabulary_.items()}\n",
        "  \n",
        "  \n",
        "  \n",
        "print('word_index', word_index)\n",
        "print('moon topic', word_index[np.argmax(topics[0])])\n",
        "print('huns topic', word_index[np.argmax(topics[1])])"
      ],
      "execution_count": 0,
      "outputs": []
    }
  ]
}